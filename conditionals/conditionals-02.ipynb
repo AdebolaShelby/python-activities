{
 "cells": [
  {
   "cell_type": "code",
   "execution_count": 1,
   "metadata": {},
   "outputs": [
    {
     "name": "stdout",
     "output_type": "stream",
     "text": [
      "Its a cold day. Bundle up\n",
      "and turn on the heat\n"
     ]
    }
   ],
   "source": [
    "is_hot = False\n",
    "is_cold = True\n",
    "\n",
    "if is_hot:\n",
    "    print(\"Its a hot day drink water\")\n",
    "    print(\"Turn on the air conditioner\")\n",
    "elif is_cold:\n",
    "    print(\"Its a cold day. Bundle up\")\n",
    "    print(\"and turn on the heat\")\n",
    "else:\n",
    "    print(\"Its a nice day\")"
   ]
  },
  {
   "cell_type": "code",
   "execution_count": 2,
   "metadata": {},
   "outputs": [
    {
     "name": "stdout",
     "output_type": "stream",
     "text": [
      "You need to put down 10%\n",
      "$100000.0\n"
     ]
    }
   ],
   "source": [
    "house_price = 1000000\n",
    "good_payment = 0.1 * house_price\n",
    "bad_payment = 0.2 * house_price\n",
    "\n",
    "credit_bad = False\n",
    "credit_good = True\n",
    "\n",
    "if credit_good:\n",
    "    print(\"You need to put down 10%\")\n",
    "    print(f\"{'$'}{good_payment}\")\n",
    "else:\n",
    "    print(\"You need to put down 20%\")\n",
    "    print(f\"{bad_payment}\")"
   ]
  }
 ],
 "metadata": {
  "kernelspec": {
   "display_name": "base",
   "language": "python",
   "name": "python3"
  },
  "language_info": {
   "codemirror_mode": {
    "name": "ipython",
    "version": 3
   },
   "file_extension": ".py",
   "mimetype": "text/x-python",
   "name": "python",
   "nbconvert_exporter": "python",
   "pygments_lexer": "ipython3",
   "version": "3.12.3"
  }
 },
 "nbformat": 4,
 "nbformat_minor": 2
}
